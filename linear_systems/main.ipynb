{
 "cells": [
  {
   "cell_type": "code",
   "execution_count": 2,
   "metadata": {},
   "outputs": [],
   "source": [
    "from Linear_systems import Linear_System\n",
    "from Matrix import Matrix\n",
    "from Vectors import Vector\n",
    "import sympy as sym\n"
   ]
  },
  {
   "cell_type": "markdown",
   "metadata": {},
   "source": [
    "Faixa abaixo utilizada para realização das contas  para avaliação 3 de Calculo numérico."
   ]
  },
  {
   "cell_type": "code",
   "execution_count": 12,
   "metadata": {},
   "outputs": [
    {
     "name": "stdout",
     "output_type": "stream",
     "text": [
      "[x4 - 1, x3 + 1, x2 + 1, x1 - 4]\n"
     ]
    },
    {
     "data": {
      "text/plain": [
       "Vector(x1=4 x2=-1 x3=-1 x4=1)"
      ]
     },
     "execution_count": 12,
     "metadata": {},
     "output_type": "execute_result"
    }
   ],
   "source": [
    "def matrix_icognitos_to_lin_sys (matrix: 'Matrix', y_col_vector: 'Matrix', original_lin_sys: 'Linear_System'):\n",
    "    icognitos = original_lin_sys.icognitos\n",
    "\n",
    "    new_sys = []\n",
    "    for i in range(matrix.rows_num):\n",
    "        new_sys.append(\n",
    "            [matrix.matrix[i][0].coeff(icognitos[j]) for j in range(len(icognitos))]\n",
    "        )\n",
    "\n",
    "\n",
    "\n",
    "    return Linear_System(new_sys, Vector(*[i[0] for i in y_col_vector.matrix]))\n",
    "\n",
    "\n",
    "sys_1 = [\n",
    "    [ 2,  3, -1,  0],\n",
    "    [ 3,  1,  1, -1],\n",
    "    [ 4,  2,  1,  2],\n",
    "    [-2,  0,  1,  1],\n",
    "]\n",
    "\n",
    "lin_sys_1 = Linear_System(sys_1, Vector(0,0,0,0))\n",
    "\n",
    "icognitos = [sym.symbols(f'x{i+1}') for i in range(len(sys_1))]\n",
    "\n",
    "icon_vector = Vector(*lin_sys_1.icognitos).column_matrix\n",
    "\n",
    "b_vector = Vector(-1, 1, 4, -1).column_matrix\n",
    "\n",
    "U_factor = Matrix(lin_sys_1.U_factor)\n",
    "L_factor = Matrix(lin_sys_1.L_factor)\n",
    "P_factor = Matrix(lin_sys_1.P_factor)\n",
    "\n",
    "sys_2 = L_factor * icon_vector\n",
    "\n",
    "new_b_vector = P_factor * b_vector\n",
    "\n",
    "\n",
    "\n",
    "lin_sys_2 = matrix_icognitos_to_lin_sys(sys_2, new_b_vector, lin_sys_1)\n",
    "\n",
    "lin_sys_2.solve_by_gauss_elimination()\n"
   ]
  },
  {
   "cell_type": "code",
   "execution_count": null,
   "metadata": {},
   "outputs": [],
   "source": [
    "b_vector = Vector(-1, 1, 4, -1).column_matrix\n",
    "\n",
    "\n",
    "lin_sys_4 = matrix_icognitos_to_lin_sys(\n",
    "    lin_sys_1 * icon_vector,\n",
    "    b_vector,\n",
    "    lin_sys_1\n",
    ")\n",
    "\n",
    "print(*lin_sys_4.gauss_scibel_method(5), sep='\\n')"
   ]
  },
  {
   "cell_type": "code",
   "execution_count": null,
   "metadata": {},
   "outputs": [],
   "source": [
    "u = [\n",
    "    [0, 0, 1, 0],\n",
    "    [1, 0, 0, 0],\n",
    "    [0, 1, 0, 0],\n",
    "    [0, 0, 0, 1],\n",
    "]\n",
    "\n",
    "Matrix(u).det"
   ]
  }
 ],
 "metadata": {
  "kernelspec": {
   "display_name": "venv",
   "language": "python",
   "name": "python3"
  },
  "language_info": {
   "codemirror_mode": {
    "name": "ipython",
    "version": 3
   },
   "file_extension": ".py",
   "mimetype": "text/x-python",
   "name": "python",
   "nbconvert_exporter": "python",
   "pygments_lexer": "ipython3",
   "version": "3.11.4"
  },
  "orig_nbformat": 4
 },
 "nbformat": 4,
 "nbformat_minor": 2
}
