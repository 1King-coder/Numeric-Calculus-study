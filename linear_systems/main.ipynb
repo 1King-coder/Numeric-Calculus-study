{
 "cells": [
  {
   "cell_type": "code",
   "execution_count": 1,
   "metadata": {},
   "outputs": [
    {
     "ename": "IndexError",
     "evalue": "list index out of range",
     "output_type": "error",
     "traceback": [
      "\u001b[1;31m---------------------------------------------------------------------------\u001b[0m",
      "\u001b[1;31mIndexError\u001b[0m                                Traceback (most recent call last)",
      "\u001b[1;32mg:\\Meu Drive\\Faculdade\\Engenharia Elétrica\\3º periodo\\Calc. numérico\\Codigos\\linear_systems\\main.ipynb Cell 1\u001b[0m line \u001b[0;36m1\n\u001b[0;32m     <a href='vscode-notebook-cell:/g%3A/Meu%20Drive/Faculdade/Engenharia%20El%C3%A9trica/3%C2%BA%20periodo/Calc.%20num%C3%A9rico/Codigos/linear_systems/main.ipynb#W0sZmlsZQ%3D%3D?line=14'>15</a>\u001b[0m b \u001b[39m=\u001b[39m Vector(\u001b[39m1\u001b[39m, \u001b[39m2\u001b[39m, \u001b[39m4\u001b[39m, \u001b[39m5\u001b[39m)\u001b[39m.\u001b[39mcolumn_matrix\n\u001b[0;32m     <a href='vscode-notebook-cell:/g%3A/Meu%20Drive/Faculdade/Engenharia%20El%C3%A9trica/3%C2%BA%20periodo/Calc.%20num%C3%A9rico/Codigos/linear_systems/main.ipynb#W0sZmlsZQ%3D%3D?line=16'>17</a>\u001b[0m lin_sys \u001b[39m=\u001b[39m Linear_System(matrix_1)\n\u001b[1;32m---> <a href='vscode-notebook-cell:/g%3A/Meu%20Drive/Faculdade/Engenharia%20El%C3%A9trica/3%C2%BA%20periodo/Calc.%20num%C3%A9rico/Codigos/linear_systems/main.ipynb#W0sZmlsZQ%3D%3D?line=18'>19</a>\u001b[0m Linear_System(\n\u001b[0;32m     <a href='vscode-notebook-cell:/g%3A/Meu%20Drive/Faculdade/Engenharia%20El%C3%A9trica/3%C2%BA%20periodo/Calc.%20num%C3%A9rico/Codigos/linear_systems/main.ipynb#W0sZmlsZQ%3D%3D?line=19'>20</a>\u001b[0m     (lin_sys\u001b[39m.\u001b[39;49mL_factor \u001b[39m*\u001b[39;49m y)\u001b[39m.\u001b[39;49mmatrix\n\u001b[0;32m     <a href='vscode-notebook-cell:/g%3A/Meu%20Drive/Faculdade/Engenharia%20El%C3%A9trica/3%C2%BA%20periodo/Calc.%20num%C3%A9rico/Codigos/linear_systems/main.ipynb#W0sZmlsZQ%3D%3D?line=20'>21</a>\u001b[0m )\n",
      "File \u001b[1;32mg:\\Meu Drive\\Faculdade\\Engenharia Elétrica\\3º periodo\\Calc. numérico\\Codigos\\linear_systems\\Linear_systems.py:19\u001b[0m, in \u001b[0;36mLinear_System.__init__\u001b[1;34m(self, linear_sys)\u001b[0m\n\u001b[0;32m     17\u001b[0m \u001b[39mself\u001b[39m\u001b[39m.\u001b[39mnum_of_changed_lines \u001b[39m=\u001b[39m \u001b[39m0\u001b[39m\n\u001b[0;32m     18\u001b[0m \u001b[39mself\u001b[39m\u001b[39m.\u001b[39micognitos \u001b[39m=\u001b[39m [sym\u001b[39m.\u001b[39msymbols(\u001b[39mf\u001b[39m\u001b[39m'\u001b[39m\u001b[39mx\u001b[39m\u001b[39m{\u001b[39;00mi\u001b[39m+\u001b[39m\u001b[39m1\u001b[39m\u001b[39m}\u001b[39;00m\u001b[39m'\u001b[39m) \u001b[39mfor\u001b[39;00m i \u001b[39min\u001b[39;00m \u001b[39mrange\u001b[39m(\u001b[39mself\u001b[39m\u001b[39m.\u001b[39mrows_num)]\n\u001b[1;32m---> 19\u001b[0m \u001b[39mself\u001b[39;49m\u001b[39m.\u001b[39;49msystem \u001b[39m=\u001b[39m linear_sys\n",
      "File \u001b[1;32mg:\\Meu Drive\\Faculdade\\Engenharia Elétrica\\3º periodo\\Calc. numérico\\Codigos\\linear_systems\\Linear_systems.py:27\u001b[0m, in \u001b[0;36mLinear_System.system\u001b[1;34m(self, value)\u001b[0m\n\u001b[0;32m     25\u001b[0m \u001b[39m@system\u001b[39m\u001b[39m.\u001b[39msetter\n\u001b[0;32m     26\u001b[0m \u001b[39mdef\u001b[39;00m \u001b[39msystem\u001b[39m (\u001b[39mself\u001b[39m, value) \u001b[39m-\u001b[39m\u001b[39m>\u001b[39m \u001b[39mNone\u001b[39;00m:\n\u001b[1;32m---> 27\u001b[0m     \u001b[39mself\u001b[39m\u001b[39m.\u001b[39m__system \u001b[39m=\u001b[39m \u001b[39mself\u001b[39;49m\u001b[39m.\u001b[39;49mwith_icognitos(value)\n",
      "File \u001b[1;32mg:\\Meu Drive\\Faculdade\\Engenharia Elétrica\\3º periodo\\Calc. numérico\\Codigos\\linear_systems\\Linear_systems.py:34\u001b[0m, in \u001b[0;36mLinear_System.with_icognitos\u001b[1;34m(self, system)\u001b[0m\n\u001b[0;32m     32\u001b[0m \u001b[39mfor\u001b[39;00m j \u001b[39min\u001b[39;00m \u001b[39mrange\u001b[39m(\u001b[39mself\u001b[39m\u001b[39m.\u001b[39mrows_num):\n\u001b[0;32m     33\u001b[0m     \u001b[39mfor\u001b[39;00m index, icognito \u001b[39min\u001b[39;00m \u001b[39menumerate\u001b[39m(\u001b[39mself\u001b[39m\u001b[39m.\u001b[39micognitos):\n\u001b[1;32m---> 34\u001b[0m         sys[j][index] \u001b[39m*\u001b[39m\u001b[39m=\u001b[39m icognito\n\u001b[0;32m     36\u001b[0m     sys[j] \u001b[39m=\u001b[39m \u001b[39msum\u001b[39m(sys[j])\n\u001b[0;32m     38\u001b[0m \u001b[39mreturn\u001b[39;00m sys\n",
      "\u001b[1;31mIndexError\u001b[0m: list index out of range"
     ]
    }
   ],
   "source": [
    "from Linear_systems import Linear_System\n",
    "from Matrix import Matrix\n",
    "from Vectors import Vector\n",
    "import sympy as sym\n",
    "\n",
    "matrix_1 = [\n",
    "    [2, 1, 1, 0],\n",
    "    [4, 3, 3, 1],\n",
    "    [8, 7, 9, 5],\n",
    "    [6, 7, 9, 8],\n",
    "]\n",
    "\n",
    "y1, y2, y3, y4 = sym.symbols('y1 y2 y3 y4')\n",
    "y = Vector(y1, y2, y3, y4).column_matrix\n",
    "b = Vector(1, 2, 4, 5).column_matrix\n",
    "\n",
    "lin_sys = Linear_System(matrix_1)\n",
    "\n",
    "Linear_System(\n",
    "    (lin_sys.L_factor * y).matrix\n",
    ")\n"
   ]
  }
 ],
 "metadata": {
  "kernelspec": {
   "display_name": "venv",
   "language": "python",
   "name": "python3"
  },
  "language_info": {
   "codemirror_mode": {
    "name": "ipython",
    "version": 3
   },
   "file_extension": ".py",
   "mimetype": "text/x-python",
   "name": "python",
   "nbconvert_exporter": "python",
   "pygments_lexer": "ipython3",
   "version": "3.11.4"
  },
  "orig_nbformat": 4
 },
 "nbformat": 4,
 "nbformat_minor": 2
}
