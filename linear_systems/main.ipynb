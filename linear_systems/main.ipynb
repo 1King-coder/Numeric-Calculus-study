{
 "cells": [
  {
   "cell_type": "code",
   "execution_count": 2,
   "metadata": {},
   "outputs": [],
   "source": [
    "from Linear_systems import Linear_System\n",
    "from Matrix import Matrix\n",
    "from Vectors import Vector\n",
    "import sympy as sym\n"
   ]
  },
  {
   "cell_type": "code",
   "execution_count": 3,
   "metadata": {},
   "outputs": [
    {
     "name": "stdout",
     "output_type": "stream",
     "text": [
      "1\n",
      "-1\n",
      "0\n",
      "1\n",
      "\n"
     ]
    },
    {
     "data": {
      "text/plain": [
       "|1|\n",
       "|0|\n",
       "|-1|\n",
       "|1|"
      ]
     },
     "execution_count": 3,
     "metadata": {},
     "output_type": "execute_result"
    }
   ],
   "source": [
    "\n",
    "matrix_1 = [\n",
    "    [2, 1, 1, 0],\n",
    "    [4, 3, 3, 1],\n",
    "    [8, 7, 9, 5],\n",
    "    [6, 7, 9, 8],\n",
    "]\n",
    "\n",
    "icongnitos = y1, y2, y3, y4 = sym.symbols('y1 y2 y3 y4')\n",
    "y = Vector(y1, y2, y3, y4).column_matrix\n",
    "b = Vector(1, 2, 4, 5).column_matrix\n",
    "\n",
    "lin_sys = Linear_System(matrix_1)\n",
    "\n",
    "\n",
    "eq = (Matrix(lin_sys.L_factor) * y)\n",
    "equal_eq = Matrix(lin_sys.P_factor) * b\n",
    "\n",
    "matrix = []\n",
    "for i in range(eq.rows_num):\n",
    "    line = [eq.matrix[i][0].coeff(icongnitos[j]) for j in range(eq.rows_num)]\n",
    "    line.append(-equal_eq.matrix[i][0])\n",
    "    matrix.append(line)\n",
    "\n",
    "new_lin_sys = Linear_System([\n",
    "    [2, -1, 1, 0, -1],\n",
    "    [0, 3, 1, 2, -1],\n",
    "    [-1, 0, 3, -1, 5],\n",
    "    [1, 0, -3, 2, -6]\n",
    "])\n",
    "\n",
    "new_lin_sys.solve().column_matrix\n",
    "\n",
    "\n",
    "\n",
    "\n",
    "\n",
    "\n"
   ]
  },
  {
   "cell_type": "code",
   "execution_count": null,
   "metadata": {},
   "outputs": [],
   "source": []
  }
 ],
 "metadata": {
  "kernelspec": {
   "display_name": "venv",
   "language": "python",
   "name": "python3"
  },
  "language_info": {
   "codemirror_mode": {
    "name": "ipython",
    "version": 3
   },
   "file_extension": ".py",
   "mimetype": "text/x-python",
   "name": "python",
   "nbconvert_exporter": "python",
   "pygments_lexer": "ipython3",
   "version": "3.11.4"
  },
  "orig_nbformat": 4
 },
 "nbformat": 4,
 "nbformat_minor": 2
}
