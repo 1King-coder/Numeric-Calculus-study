{
 "cells": [
  {
   "cell_type": "code",
   "execution_count": 1,
   "metadata": {},
   "outputs": [],
   "source": [
    "from Linear_systems import Linear_System\n",
    "from Matrix import Matrix\n",
    "from Vectors import Vector\n",
    "import sympy as sym\n"
   ]
  },
  {
   "cell_type": "code",
   "execution_count": 2,
   "metadata": {},
   "outputs": [
    {
     "name": "stdout",
     "output_type": "stream",
     "text": [
      "3\n"
     ]
    },
    {
     "data": {
      "text/latex": [
       "$\\displaystyle 8$"
      ],
      "text/plain": [
       "8"
      ]
     },
     "execution_count": 2,
     "metadata": {},
     "output_type": "execute_result"
    }
   ],
   "source": [
    "\n",
    "matrix_1 = [\n",
    "    [2, 1, 1, 0],\n",
    "    [4, 3, 3, 1],\n",
    "    [8, 7, 9, 5],\n",
    "    [6, 7, 9, 8],\n",
    "]\n",
    "\n",
    "sys_1 = [\n",
    "    [ 2,  3, -1,  0],\n",
    "    [ 3,  1,  1, -1],\n",
    "    [ 4,  2,  1,  2],\n",
    "    [-2,  0,  1,  1],\n",
    "]\n",
    "b = Vector(1, 2, 4, 5).column_matrix\n",
    "\n",
    "lin_sys_1 = Linear_System(matrix_1)\n",
    "\n",
    "L_factor = Matrix(lin_sys_1.L_factor)\n",
    "P_factor = Matrix(lin_sys_1.P_factor)\n",
    "\n",
    "y = P_factor * b\n",
    "\n",
    "icon_vector = Vector(*lin_sys_1.icognitos).column_matrix\n",
    "\n",
    "sys_2 = L_factor * icon_vector\n",
    "\n",
    "def matrix_icognitos_to_lin_sys (matrix: 'Matrix', y_col_vector: 'Matrix', original_lin_sys: 'Linear_System'):\n",
    "    icognitos = original_lin_sys.icognitos\n",
    "\n",
    "    new_sys = []\n",
    "    for i in range(matrix.rows_num):\n",
    "        new_sys.append(\n",
    "            [matrix.matrix[i][0].coeff(icognitos[j]) for j in range(len(icognitos))]\n",
    "        )\n",
    "\n",
    "        new_sys[i].append( - y_col_vector.matrix[i][0])\n",
    "\n",
    "    return Linear_System(new_sys)\n",
    "\n",
    "\n",
    "new_system = matrix_icognitos_to_lin_sys(sys_2, y, lin_sys_1)\n",
    "new_y = new_system.solve_by_gauss_elimination().column_matrix\n",
    "\n",
    "new_system_1 = matrix_icognitos_to_lin_sys(Matrix(lin_sys_1.U_factor) * icon_vector, new_y, lin_sys_1)\n",
    "\n",
    "\n",
    "Matrix(lin_sys_1.matrix).det\n",
    "\n"
   ]
  },
  {
   "cell_type": "code",
   "execution_count": null,
   "metadata": {},
   "outputs": [],
   "source": [
    "\n",
    "sys_1 = [\n",
    "    [ 2,  3, -1,  0],\n",
    "    [ 3,  1,  1, -1],\n",
    "    [ 4,  2,  1,  2],\n",
    "    [-2,  0,  1,  1],\n",
    "]"
   ]
  }
 ],
 "metadata": {
  "kernelspec": {
   "display_name": "venv",
   "language": "python",
   "name": "python3"
  },
  "language_info": {
   "codemirror_mode": {
    "name": "ipython",
    "version": 3
   },
   "file_extension": ".py",
   "mimetype": "text/x-python",
   "name": "python",
   "nbconvert_exporter": "python",
   "pygments_lexer": "ipython3",
   "version": "3.11.4"
  },
  "orig_nbformat": 4
 },
 "nbformat": 4,
 "nbformat_minor": 2
}
