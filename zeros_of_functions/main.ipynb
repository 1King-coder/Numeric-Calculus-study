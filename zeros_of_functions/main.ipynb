{
 "cells": [
  {
   "cell_type": "code",
   "execution_count": 1,
   "metadata": {},
   "outputs": [],
   "source": [
    "import numpy as np\n",
    "from calculando_zeros import Func\n",
    "import sympy as sym\n",
    "from sympy import sin, cos, ln\n",
    "import math\n"
   ]
  },
  {
   "cell_type": "code",
   "execution_count": 9,
   "metadata": {},
   "outputs": [
    {
     "name": "stdout",
     "output_type": "stream",
     "text": [
      "0.90926\n",
      "Num. Maximo de iterações: 7\n",
      "{'iter': 0, 'a0': Decimal('-3'), 'b0': Decimal('-2'), 'x0': Decimal('-2.3023'), 'f(x)': Decimal('-0.9968185476770431'), 'interval': Decimal('1')}\n",
      "{'iter': 1, 'a1': Decimal('-3'), 'b1': Decimal('-2.3023'), 'x1': Decimal('-2.6527'), 'f(x)': Decimal('-0.12892544740595022'), 'interval': Decimal('0.6977')}\n",
      "{'iter': 2, 'a2': Decimal('-3'), 'b2': Decimal('-2.6527'), 'x2': Decimal('-2.6928'), 'f(x)': Decimal('0.06696454393065925'), 'interval': Decimal('0.3473')}\n",
      "{'iter': 3, 'a3': Decimal('-2.6928'), 'b3': Decimal('-2.6527'), 'x3': Decimal('-2.6791'), 'f(x)': Decimal('-0.0004853071605361319'), 'interval': Decimal('0.0401')}\n"
     ]
    }
   ],
   "source": [
    "\n",
    "\n",
    "f = sin(x**2 + cos(x))\n",
    "\n",
    "func = Func(f, x)\n",
    "\n",
    "f_x = lambda y: math.sin(y**2 + math.cos(y))\n",
    "\n",
    "\n",
    "\n",
    "secante = func.secant_method([-2, 0], 10**(-1))['iterations']\n",
    "\n",
    "newton = func.newton_method(1, 10**(-2))['iterations']\n",
    "\n",
    "bissection = func.bissection_method(2, 3, 10**(-2))['iterations']\n",
    "\n",
    "fake = func.fake_position_method(-3, -2,  10**(-2))['iterations']\n",
    "\n",
    "print(*fake, sep=\"\\n\")\n"
   ]
  },
  {
   "cell_type": "code",
   "execution_count": 25,
   "metadata": {},
   "outputs": [
    {
     "name": "stdout",
     "output_type": "stream",
     "text": [
      "{'iter': 0, 'x0': Decimal('1.3'), 'f(x0)': Decimal('0.612766')}\n",
      "{'iter': 1, 'x1': Decimal('1.0378988390011812'), 'f(x1)': Decimal('0.427316')}\n",
      "{'iter': 2, 'x2': Decimal('0.8061749189847077'), 'f(x2)': Decimal('0.119498')}\n",
      "{'iter': 3, 'x3': Decimal('0.7282993889877981'), 'f(x3)': Decimal('0.008981')}\n"
     ]
    }
   ],
   "source": [
    "from decimal import getcontext, Decimal\n",
    "\n",
    "getcontext().prec = 7\n",
    "\n",
    "def decimal (value):\n",
    "    return Decimal(str(value))\n",
    "\n",
    "f = lambda x: decimal(decimal(math.cos(x)) + decimal(math.sin(x**2)) + decimal(math.log(x)) + x**2 - 2*x)\n",
    "fi = lambda x: decimal(math.sqrt(- decimal(math.cos(x)) - decimal(math.sin(x**2)) - decimal(math.log(x))  + 2*x))\n",
    "\n",
    "fi_diff = lambda x: decimal((- (x * math.cos(x**2)) + (math.sin(x)/2)  - (1/(2*x)) + 1)/fi(x))\n",
    "\n",
    "\n",
    "iteration = 0\n",
    "x = decimal(1.3)\n",
    "iterations = [{\n",
    "    'iter': iteration,\n",
    "    f'x{iteration}': x,\n",
    "    f'f(x{iteration})': f(x)\n",
    "}]\n",
    "\n",
    "while abs(f(x)) > 10**(-2) and iteration < 30:\n",
    "    iteration += 1\n",
    "\n",
    "    x = fi(x)\n",
    "\n",
    "    iterations.append({\n",
    "        'iter': iteration,\n",
    "        f'x{iteration}': decimal(x),\n",
    "        f'f(x{iteration})': f(x)\n",
    "    })\n",
    "\n",
    "print(*iterations, sep='\\n')\n",
    "\n",
    "\n",
    "\n",
    "\n",
    "\n"
   ]
  }
 ],
 "metadata": {
  "kernelspec": {
   "display_name": "venv",
   "language": "python",
   "name": "python3"
  },
  "language_info": {
   "codemirror_mode": {
    "name": "ipython",
    "version": 3
   },
   "file_extension": ".py",
   "mimetype": "text/x-python",
   "name": "python",
   "nbconvert_exporter": "python",
   "pygments_lexer": "ipython3",
   "version": "3.11.4"
  },
  "orig_nbformat": 4
 },
 "nbformat": 4,
 "nbformat_minor": 2
}
