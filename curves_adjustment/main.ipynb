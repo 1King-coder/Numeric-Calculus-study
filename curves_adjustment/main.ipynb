{
 "cells": [
  {
   "cell_type": "code",
   "execution_count": 1,
   "metadata": {},
   "outputs": [],
   "source": [
    "import sys\n",
    "\n",
    "is_main = __name__ == \"__main__\"\n",
    "\n",
    "lin_sys_path = '..\\\\linear_systems\\\\'\n",
    "function_path ='..\\\\zeros_of_functions\\\\'\n",
    "\n",
    "sys.path.append(lin_sys_path)\n",
    "sys.path.append(function_path)\n",
    "\n",
    "from Vectors import Vector\n",
    "from Matrix import Matrix\n",
    "from Linear_systems import Linear_System\n",
    "from Functions import Func\n",
    "\n",
    "import matplotlib.pyplot as plt\n",
    "import numpy as np"
   ]
  },
  {
   "cell_type": "code",
   "execution_count": 2,
   "metadata": {},
   "outputs": [],
   "source": [
    "def plot_curve (func: 'Func', axe: 'plt.Axes', interval_x: list, interval_y: list,\n",
    "                step: float = 0.1, color_val: str = 'b', label_txt: str = '') -> None:    \n",
    "    \"\"\"\n",
    "    Function to plot a given expression curve in a certain interval\n",
    "    \"\"\"    \n",
    "    \n",
    "    # Create the values of X in the interval\n",
    "    x_np = np.arange(*interval_x, step)\n",
    "\n",
    "    # Limit the graph to improve visualization of the curve\n",
    "    \n",
    "    axe.set(xlim= interval_x, ylim = interval_y)\n",
    "\n",
    "    # Plots it\n",
    "    axe.plot(x_np, func(x_np), color=color_val, label=label_txt)\n",
    "    axe.legend()\n",
    "\n",
    "def plot_cartesian_lines (axe, interval_x: list, interval_y: list):\n",
    "    # plots the x and y lines in black in the axe.\n",
    "    if not interval_y[1]:\n",
    "        interval_y = [-10, 10]\n",
    "\n",
    "    if not interval_x[1]:\n",
    "        interval_x = [-10, 10]\n",
    "        \n",
    "    x_np = np.arange(*interval_x, 0.1)\n",
    "    y_np = np.arange(*interval_y, 0.1)\n",
    "\n",
    "    axe.plot(x_np, [0 for  _ in x_np], c='black', label='x')\n",
    "    axe.plot([0 for _ in y_np], y_np, c='black', label='y')\n",
    "\n",
    "def plot_func_in_cartesian (func: 'Func', axe: 'plt.Axes', interval_x: list):\n",
    "    \"\"\"\n",
    "    Function used to plot the graph of any function in the cartesian plan.\n",
    "    in a given x interval\n",
    "    \"\"\"\n",
    "\n",
    "    inter_x, inter_y = intervals(\n",
    "        interval_x,\n",
    "        [func.global_max_min('min'), func.global_max_min('max')]\n",
    "    )\n",
    "\n",
    "    # Plots the abcisse and ordinate lines\n",
    "    plot_cartesian_lines(axe, inter_x, inter_y)\n",
    "\n",
    "    # Plots the function curve\n",
    "    plot_curve(func, axe, inter_x, inter_y, label_txt='f(x)')\n",
    "    \n",
    "\n",
    "def plot_points (x_coordinates: list, y_coordinates: list, axe: 'plt.Axes',\n",
    "                 marker:str = '.', color_val: str='black', label_txt: str = '', size: int=50):\n",
    "    \"\"\"\n",
    "    Functions to plot a given array of points.\n",
    "    \"\"\"\n",
    "    \n",
    "    axe.scatter (x_coordinates, y_coordinates, marker=marker,\n",
    "                 color = color_val, label = label_txt, s = size)\n",
    "    \n",
    "def intervals (x_coordinates: list, y_coordinates: list) -> list:\n",
    "    \"\"\"\n",
    "    Function that calculates the best interval to make sure all the\n",
    "    points will be shown with a good visualization.\n",
    "    \"\"\"\n",
    "\n",
    "\n",
    "    max_x, max_y = max(x_coordinates), max(y_coordinates)\n",
    "\n",
    "    min_x, min_y = min(x_coordinates), min(y_coordinates)\n",
    "\n",
    "    # By tests, I found out that 0.75 of the whole interval is the best increment\n",
    "    # to improve the visualization of the data.\n",
    "    increment_x = ((max_x - min_x)/len(x_coordinates)) * 0.75\n",
    "    increment_y = ((max_y - min_y)/len(y_coordinates)) * 0.75\n",
    "\n",
    "    x_interval = [min_x - increment_x, max_x + increment_x]\n",
    "    y_interval = [min_y - increment_y, max_y + increment_y]\n",
    "\n",
    "    return [x_interval, y_interval]"
   ]
  },
  {
   "cell_type": "code",
   "execution_count": 3,
   "metadata": {},
   "outputs": [
    {
     "name": "stdout",
     "output_type": "stream",
     "text": [
      "8x3\n",
      "3x8\n",
      "3x8\n",
      "3x3\n",
      "3x8\n",
      "3x3\n",
      "3x3\n"
     ]
    },
    {
     "name": "stderr",
     "output_type": "stream",
     "text": [
      "No artists with labels found to put in legend.  Note that artists whose label start with an underscore are ignored when legend() is called with no argument.\n"
     ]
    },
    {
     "name": "stdout",
     "output_type": "stream",
     "text": [
      "0.01548*x**2 + 0.07738*x + 0 + 0.40714\n"
     ]
    },
    {
     "data": {
      "image/png": "[encoded data removed]",
      "text/plain": [
       "<Figure size 640x480 with 1 Axes>"
      ]
     },
     "metadata": {},
     "output_type": "display_data"
    }
   ],
   "source": [
    "from Linear_adjusts import Linear_adjust, build_guess_expression\n",
    "import sympy as sym\n",
    "import math\n",
    "\n",
    "points_1 = [\n",
    "        (0, -153),\n",
    "        (0.25, 64),\n",
    "        (0.5, 242),\n",
    "        (0.75, 284),\n",
    "        (1, 175),\n",
    "    ]\n",
    "\n",
    "points_2 = [\n",
    "    (1, 0.5),\n",
    "    (2, 0.6),\n",
    "    (3, 0.9),\n",
    "    (4, 0.8),\n",
    "    (5, 1.2),\n",
    "    (6, 1.5),\n",
    "    (7, 1.7),\n",
    "    (8, 2.0)\n",
    "]\n",
    "       \n",
    "\n",
    "x = sym.symbols('x')\n",
    "\n",
    "x_coords = [point[0] for point in points_2]\n",
    "y_coords = [point[1] for point in points_2]\n",
    "\n",
    "# Lembre-se -> Se a função parecer deslocada, adicione o deslocamento ao resultado\n",
    "guess_1 = [x, 1]\n",
    "guess_2 = [x**2, x, 1]\n",
    "\n",
    "lin_ad = Linear_adjust(points_2, guess_2)\n",
    "\n",
    "func = lin_ad.build_linear_fit_function()\n",
    "\n",
    "print(func)\n",
    "\n",
    "fig, axe = plt.subplots()\n",
    "\n",
    "interval_x, interval_y = intervals(x_coords, y_coords)\n",
    "\n",
    "plot_curve(func, axe, interval_x, interval_y)\n",
    "\n",
    "plot_points(x_coords, y_coords, axe)"
   ]
  }
 ],
 "metadata": {
  "kernelspec": {
   "display_name": "venv",
   "language": "python",
   "name": "python3"
  },
  "language_info": {
   "codemirror_mode": {
    "name": "ipython",
    "version": 3
   },
   "file_extension": ".py",
   "mimetype": "text/x-python",
   "name": "python",
   "nbconvert_exporter": "python",
   "pygments_lexer": "ipython3",
   "version": "3.11.4"
  }
 },
 "nbformat": 4,
 "nbformat_minor": 2
}
