{
 "cells": [
  {
   "cell_type": "code",
   "execution_count": 1,
   "metadata": {},
   "outputs": [],
   "source": [
    "import sys\n",
    "\n",
    "is_main = __name__ == \"__main__\"\n",
    "\n",
    "lin_sys_path = '..\\\\linear_systems\\\\'\n",
    "function_path ='..\\\\zeros_of_functions\\\\'\n",
    "\n",
    "sys.path.append(lin_sys_path)\n",
    "sys.path.append(function_path)\n",
    "\n",
    "from Vectors import Vector\n",
    "from Matrix import Matrix\n",
    "from Linear_systems import Linear_System\n",
    "from Functions import Func"
   ]
  },
  {
   "cell_type": "code",
   "execution_count": 2,
   "metadata": {},
   "outputs": [
    {
     "data": {
      "text/plain": [
       "Vector(x1=244.036029123592 x2=-161.188066666667)"
      ]
     },
     "execution_count": 2,
     "metadata": {},
     "output_type": "execute_result"
    }
   ],
   "source": [
    "from Linear_adjusts import Linear_adjust, build_guess_expression\n",
    "import sympy as sym\n",
    "import math\n",
    "\n",
    "points_1 = [\n",
    "        (0, -153),\n",
    "        (0.25, 64),\n",
    "        (0.5, 242),\n",
    "        (0.75, 284),\n",
    "        (1, 175),\n",
    "    ]\n",
    "x = sym.symbols('x')\n",
    "\n",
    "guess_expr = build_guess_expression([sym.sin(math.pi*x), sym.cos(math.pi*x)])\n",
    "\n",
    "\n",
    "lin_ad = Linear_adjust(points_1, [sym.sin(math.pi*x), sym.cos(math.pi*x)])\n",
    "\n",
    "lin_ad.make_adjust()\n"
   ]
  }
 ],
 "metadata": {
  "kernelspec": {
   "display_name": "venv",
   "language": "python",
   "name": "python3"
  },
  "language_info": {
   "codemirror_mode": {
    "name": "ipython",
    "version": 3
   },
   "file_extension": ".py",
   "mimetype": "text/x-python",
   "name": "python",
   "nbconvert_exporter": "python",
   "pygments_lexer": "ipython3",
   "version": "3.11.4"
  }
 },
 "nbformat": 4,
 "nbformat_minor": 2
}
